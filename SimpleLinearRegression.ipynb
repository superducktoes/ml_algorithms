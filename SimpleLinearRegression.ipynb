{
  "nbformat": 4,
  "nbformat_minor": 0,
  "metadata": {
    "colab": {
      "name": "SimpleLinearRegression.ipynb",
      "provenance": [],
      "collapsed_sections": [],
      "authorship_tag": "ABX9TyNh32wS421YLqdZX8DWwsBu"
    },
    "kernelspec": {
      "name": "python3",
      "display_name": "Python 3"
    }
  },
  "cells": [
    {
      "cell_type": "markdown",
      "metadata": {
        "id": "FzYgsBaczDYh",
        "colab_type": "text"
      },
      "source": [
        "Simple Linear Regression"
      ]
    },
    {
      "cell_type": "code",
      "metadata": {
        "id": "FfnnE2hxyOtJ",
        "colab_type": "code",
        "colab": {}
      },
      "source": [
        "Importing the Libraries"
      ],
      "execution_count": 0,
      "outputs": []
    },
    {
      "cell_type": "code",
      "metadata": {
        "id": "qhs6Wei5y62g",
        "colab_type": "code",
        "colab": {}
      },
      "source": [
        "import numpy as np\n",
        "import matplotlib.pyplot as plt\n",
        "import pandas as pd"
      ],
      "execution_count": 0,
      "outputs": []
    },
    {
      "cell_type": "markdown",
      "metadata": {
        "id": "QvDR-FcpzLpY",
        "colab_type": "text"
      },
      "source": [
        "Importing the Dataset\n"
      ]
    },
    {
      "cell_type": "code",
      "metadata": {
        "id": "f-soaO4YzN4c",
        "colab_type": "code",
        "colab": {}
      },
      "source": [
        "dataset = pd.read_csv(\"Salary_Data.csv\")\n",
        "# get all of the features. this is just the years\n",
        "x = dataset.iloc[:,:-1].values\n",
        "\n",
        "# dependant variable. the salary\n",
        "y = dataset.iloc[:,-1].values"
      ],
      "execution_count": 0,
      "outputs": []
    },
    {
      "cell_type": "markdown",
      "metadata": {
        "id": "55ZttuaYz1ZW",
        "colab_type": "text"
      },
      "source": [
        ""
      ]
    },
    {
      "cell_type": "markdown",
      "metadata": {
        "id": "Pk5HJkPszeI1",
        "colab_type": "text"
      },
      "source": [
        "Splitting the dataset into training and test sets"
      ]
    },
    {
      "cell_type": "code",
      "metadata": {
        "id": "mOkZnDZ6zhq5",
        "colab_type": "code",
        "colab": {}
      },
      "source": [
        "from sklearn.model_selection import train_test_split\n",
        "x_train, x_test, y_train, y_test = train_test_split(x, y, test_size=0.2, random_state=1)"
      ],
      "execution_count": 0,
      "outputs": []
    },
    {
      "cell_type": "markdown",
      "metadata": {
        "id": "QrK8n7BFz1ao",
        "colab_type": "text"
      },
      "source": [
        "Training the simple linear regression model on the training set"
      ]
    },
    {
      "cell_type": "code",
      "metadata": {
        "id": "hHNmkKVUz7J-",
        "colab_type": "code",
        "outputId": "0bfd2d3e-238a-447a-805e-c9b278ba0c5d",
        "colab": {
          "base_uri": "https://localhost:8080/",
          "height": 56
        }
      },
      "source": [
        "from sklearn.linear_model import LinearRegression\n",
        "regressor = LinearRegression()\n",
        "regressor.fit(x_train, y_train)"
      ],
      "execution_count": 0,
      "outputs": [
        {
          "output_type": "execute_result",
          "data": {
            "text/plain": [
              "LinearRegression(copy_X=True, fit_intercept=True, n_jobs=None, normalize=False)"
            ]
          },
          "metadata": {
            "tags": []
          },
          "execution_count": 10
        }
      ]
    },
    {
      "cell_type": "markdown",
      "metadata": {
        "id": "PsgWkO401JG_",
        "colab_type": "text"
      },
      "source": [
        "Predicting the test set results"
      ]
    },
    {
      "cell_type": "code",
      "metadata": {
        "id": "JO-eerK52B2l",
        "colab_type": "code",
        "colab": {}
      },
      "source": [
        "y_pred = regressor.predict(x_test)\n"
      ],
      "execution_count": 0,
      "outputs": []
    },
    {
      "cell_type": "markdown",
      "metadata": {
        "id": "TC-55PF7260-",
        "colab_type": "text"
      },
      "source": [
        "Visualizing the training set results"
      ]
    },
    {
      "cell_type": "code",
      "metadata": {
        "id": "DHxvEFJU29xh",
        "colab_type": "code",
        "outputId": "9a608ded-870a-4efe-c057-f52f7be13a00",
        "colab": {
          "base_uri": "https://localhost:8080/",
          "height": 314
        }
      },
      "source": [
        "plt.scatter(x_train, y_train, color=\"red\")\n",
        "plt.plot(x_train, regressor.predict(x_train), color=\"blue\")\n",
        "plt.title(\"Salary vs Experience (Training Set)\")\n",
        "plt.xlabel(\"Years of Experience\")\n",
        "plt.ylabel(\"Salary\")"
      ],
      "execution_count": 0,
      "outputs": [
        {
          "output_type": "execute_result",
          "data": {
            "text/plain": [
              "Text(0, 0.5, 'Salary')"
            ]
          },
          "metadata": {
            "tags": []
          },
          "execution_count": 21
        },
        {
          "output_type": "display_data",
          "data": {
            "image/png": "[encoded data removed]",
            "text/plain": [
              "<Figure size 432x288 with 1 Axes>"
            ]
          },
          "metadata": {
            "tags": [],
            "needs_background": "light"
          }
        }
      ]
    },
    {
      "cell_type": "markdown",
      "metadata": {
        "id": "35uMj8bL3ksI",
        "colab_type": "text"
      },
      "source": [
        "Visualizing the test set results"
      ]
    },
    {
      "cell_type": "code",
      "metadata": {
        "id": "GdhAsvVE4kfd",
        "colab_type": "code",
        "outputId": "093414c4-db30-445e-c3be-148a4bcfa35a",
        "colab": {
          "base_uri": "https://localhost:8080/",
          "height": 314
        }
      },
      "source": [
        "plt.scatter(x_test, y_test, color=\"red\")\n",
        "plt.plot(x_train, regressor.predict(x_train), color=\"blue\")\n",
        "plt.title(\"Salary vs Experience (Test Set)\")\n",
        "plt.xlabel(\"Years of Experience\")\n",
        "plt.ylabel(\"Salary\")"
      ],
      "execution_count": 0,
      "outputs": [
        {
          "output_type": "execute_result",
          "data": {
            "text/plain": [
              "Text(0, 0.5, 'Salary')"
            ]
          },
          "metadata": {
            "tags": []
          },
          "execution_count": 20
        },
        {
          "output_type": "display_data",
          "data": {
            "image/png": "[encoded data removed]",
            "text/plain": [
              "<Figure size 432x288 with 1 Axes>"
            ]
          },
          "metadata": {
            "tags": [],
            "needs_background": "light"
          }
        }
      ]
    }
  ]
}