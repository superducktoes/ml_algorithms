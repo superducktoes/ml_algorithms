{
  "nbformat": 4,
  "nbformat_minor": 0,
  "metadata": {
    "colab": {
      "name": "LogisticRegression.ipynb",
      "provenance": [],
      "collapsed_sections": [],
      "authorship_tag": "ABX9TyN7si/b6rrZVXmFt7WmIFVQ"
    },
    "kernelspec": {
      "name": "python3",
      "display_name": "Python 3"
    }
  },
  "cells": [
    {
      "cell_type": "markdown",
      "metadata": {
        "id": "P7lLHraYE3G9",
        "colab_type": "text"
      },
      "source": [
        "Logistic Regression"
      ]
    },
    {
      "cell_type": "markdown",
      "metadata": {
        "id": "ed_ycIC_E7Kc",
        "colab_type": "text"
      },
      "source": [
        "Importing the Libraries"
      ]
    },
    {
      "cell_type": "code",
      "metadata": {
        "id": "jL8D9UsXFEDW",
        "colab_type": "code",
        "colab": {}
      },
      "source": [
        "import numpy as np\n",
        "import matplotlib.pyplot as plt\n",
        "import pandas as pd"
      ],
      "execution_count": 0,
      "outputs": []
    },
    {
      "cell_type": "markdown",
      "metadata": {
        "id": "p8Z9JCRXE-Ra",
        "colab_type": "text"
      },
      "source": [
        "Importing the Dataset"
      ]
    },
    {
      "cell_type": "code",
      "metadata": {
        "id": "XIRbW4H3FEo7",
        "colab_type": "code",
        "colab": {}
      },
      "source": [
        "dataset = pd.read_csv(\"Social_Network_Ads.csv\")\n",
        "# get all of the features\n",
        "x = dataset.iloc[:,:-1].values\n",
        "\n",
        "# dependant variable\n",
        "y = dataset.iloc[:,-1].values"
      ],
      "execution_count": 0,
      "outputs": []
    },
    {
      "cell_type": "markdown",
      "metadata": {
        "id": "gHbpaWg8E_c-",
        "colab_type": "text"
      },
      "source": [
        "Spplitting the dataset into the training set and the test set"
      ]
    },
    {
      "cell_type": "code",
      "metadata": {
        "id": "-Mf5_TQvFFmN",
        "colab_type": "code",
        "colab": {}
      },
      "source": [
        "from sklearn.model_selection import train_test_split\n",
        "# change the test size since we have 400 observations and this makes a 300/100 split\n",
        "x_train, x_test, y_train, y_test = train_test_split(x, y, test_size=0.25, random_state=1)"
      ],
      "execution_count": 0,
      "outputs": []
    },
    {
      "cell_type": "markdown",
      "metadata": {
        "id": "62U7Ove_FGHA",
        "colab_type": "text"
      },
      "source": [
        "Feature Scaling"
      ]
    },
    {
      "cell_type": "code",
      "metadata": {
        "id": "pzx_RTeoFYxK",
        "colab_type": "code",
        "colab": {}
      },
      "source": [
        "# not required for logistic required but helps with predictions and accuracy\n",
        "from sklearn.preprocessing import StandardScaler\n",
        "sc = StandardScaler()\n",
        "# just scale the entire set of features\n",
        "x_train = sc.fit_transform(x_train)\n",
        "x_test = sc.fit_transform(x_test)"
      ],
      "execution_count": 0,
      "outputs": []
    },
    {
      "cell_type": "markdown",
      "metadata": {
        "id": "lY9DvvZcFI69",
        "colab_type": "text"
      },
      "source": [
        "Training the Logistic Regression model on the training set"
      ]
    },
    {
      "cell_type": "code",
      "metadata": {
        "id": "EevUzx8jFZaF",
        "colab_type": "code",
        "colab": {
          "base_uri": "https://localhost:8080/",
          "height": 111
        },
        "outputId": "493488ee-36bf-4a7c-fbd8-a2c85b38cf03"
      },
      "source": [
        "from sklearn.linear_model import LogisticRegression\n",
        "classifier = LogisticRegression(random_state=0)\n",
        "classifier.fit(x_train, y_train)\n"
      ],
      "execution_count": 10,
      "outputs": [
        {
          "output_type": "execute_result",
          "data": {
            "text/plain": [
              "LogisticRegression(C=1.0, class_weight=None, dual=False, fit_intercept=True,\n",
              "                   intercept_scaling=1, l1_ratio=None, max_iter=100,\n",
              "                   multi_class='auto', n_jobs=None, penalty='l2',\n",
              "                   random_state=0, solver='lbfgs', tol=0.0001, verbose=0,\n",
              "                   warm_start=False)"
            ]
          },
          "metadata": {
            "tags": []
          },
          "execution_count": 10
        }
      ]
    },
    {
      "cell_type": "markdown",
      "metadata": {
        "id": "dXTshWUgFMcJ",
        "colab_type": "text"
      },
      "source": [
        "Predicting a new result"
      ]
    },
    {
      "cell_type": "code",
      "metadata": {
        "id": "87Oyf9b9FaAz",
        "colab_type": "code",
        "colab": {}
      },
      "source": [
        ""
      ],
      "execution_count": 0,
      "outputs": []
    },
    {
      "cell_type": "markdown",
      "metadata": {
        "id": "-bHvBJzIFN00",
        "colab_type": "text"
      },
      "source": [
        "Predicting the test set result"
      ]
    },
    {
      "cell_type": "code",
      "metadata": {
        "id": "dCZ3F39JFa1k",
        "colab_type": "code",
        "colab": {}
      },
      "source": [
        ""
      ],
      "execution_count": 0,
      "outputs": []
    },
    {
      "cell_type": "markdown",
      "metadata": {
        "id": "fP6Q_IXcFPb-",
        "colab_type": "text"
      },
      "source": [
        "Making the confusion matrix"
      ]
    },
    {
      "cell_type": "code",
      "metadata": {
        "id": "GheetnboFbUS",
        "colab_type": "code",
        "colab": {}
      },
      "source": [
        ""
      ],
      "execution_count": 0,
      "outputs": []
    },
    {
      "cell_type": "markdown",
      "metadata": {
        "id": "bzz4dYbcFQ2p",
        "colab_type": "text"
      },
      "source": [
        "Visualizing the training set results"
      ]
    },
    {
      "cell_type": "code",
      "metadata": {
        "id": "vfyeAbsdFb_w",
        "colab_type": "code",
        "colab": {}
      },
      "source": [
        ""
      ],
      "execution_count": 0,
      "outputs": []
    },
    {
      "cell_type": "markdown",
      "metadata": {
        "id": "HLdrkHKRFSzi",
        "colab_type": "text"
      },
      "source": [
        "Visualizing the test set results"
      ]
    },
    {
      "cell_type": "code",
      "metadata": {
        "id": "WWS214xxFc4B",
        "colab_type": "code",
        "colab": {}
      },
      "source": [
        ""
      ],
      "execution_count": 0,
      "outputs": []
    }
  ]
}