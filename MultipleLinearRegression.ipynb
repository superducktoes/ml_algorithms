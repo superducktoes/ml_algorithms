{
  "nbformat": 4,
  "nbformat_minor": 0,
  "metadata": {
    "colab": {
      "name": "MultipleLinearRegression.ipynb",
      "provenance": [],
      "collapsed_sections": [],
      "authorship_tag": "ABX9TyMxQ4VOZXzBDHjWW+Pd0lEg"
    },
    "kernelspec": {
      "name": "python3",
      "display_name": "Python 3"
    }
  },
  "cells": [
    {
      "cell_type": "markdown",
      "metadata": {
        "id": "nBkV2a6Wldn1",
        "colab_type": "text"
      },
      "source": [
        "Importing the Libraries"
      ]
    },
    {
      "cell_type": "code",
      "metadata": {
        "id": "0I50HqA-lL3A",
        "colab_type": "code",
        "colab": {}
      },
      "source": [
        "import numpy as np\n",
        "import matplotlib.pyplot as plt\n",
        "import pandas as pd"
      ],
      "execution_count": 0,
      "outputs": []
    },
    {
      "cell_type": "markdown",
      "metadata": {
        "id": "MXDDFx326W_w",
        "colab_type": "text"
      },
      "source": [
        "Importing the dataset"
      ]
    },
    {
      "cell_type": "code",
      "metadata": {
        "id": "dvm8O7oU7BJn",
        "colab_type": "code",
        "colab": {}
      },
      "source": [
        "dataset = pd.read_csv(\"50_Startups.csv\")\n",
        "# get all of the features\n",
        "x = dataset.iloc[:,:-1].values\n",
        "\n",
        "# dependant variable\n",
        "y = dataset.iloc[:,-1].values"
      ],
      "execution_count": 0,
      "outputs": []
    },
    {
      "cell_type": "markdown",
      "metadata": {
        "id": "1ZdJe_Qp6eBK",
        "colab_type": "text"
      },
      "source": [
        "Encoding Categorical data"
      ]
    },
    {
      "cell_type": "code",
      "metadata": {
        "id": "S_G6SSFn7mne",
        "colab_type": "code",
        "colab": {}
      },
      "source": [
        "# applies one-hot encoding\n",
        "from sklearn.compose import ColumnTransformer\n",
        "from sklearn.preprocessing import OneHotEncoder\n",
        "\n",
        "# specify the transformation and the columns to transform\n",
        "ct = ColumnTransformer(transformers=[(\"encoder\", OneHotEncoder(), [3])], remainder=\"passthrough\")\n",
        "x = np.array(ct.fit_transform(x))"
      ],
      "execution_count": 0,
      "outputs": []
    },
    {
      "cell_type": "markdown",
      "metadata": {
        "id": "-Pg6TUrm6f1-",
        "colab_type": "text"
      },
      "source": [
        "Splitting the dataset into the Training and Test set"
      ]
    },
    {
      "cell_type": "code",
      "metadata": {
        "id": "_bECVsWk7Mkz",
        "colab_type": "code",
        "colab": {}
      },
      "source": [
        "from sklearn.model_selection import train_test_split\n",
        "x_train, x_test, y_train, y_test = train_test_split(x, y, test_size=0.2, random_state=1)"
      ],
      "execution_count": 0,
      "outputs": []
    },
    {
      "cell_type": "markdown",
      "metadata": {
        "id": "s1wk9yvY6jVK",
        "colab_type": "text"
      },
      "source": [
        "Training the Multiple Linear Regression model on the Training set"
      ]
    },
    {
      "cell_type": "code",
      "metadata": {
        "id": "wRsxdDpk99ez",
        "colab_type": "code",
        "outputId": "491130a5-e1fe-490e-dc2f-5b560da06924",
        "colab": {
          "base_uri": "https://localhost:8080/",
          "height": 36
        }
      },
      "source": [
        "from sklearn.linear_model import LinearRegression\n",
        "regressor = LinearRegression()\n",
        "regressor.fit(x_train, y_train)\n"
      ],
      "execution_count": 18,
      "outputs": [
        {
          "output_type": "execute_result",
          "data": {
            "text/plain": [
              "LinearRegression(copy_X=True, fit_intercept=True, n_jobs=None, normalize=False)"
            ]
          },
          "metadata": {
            "tags": []
          },
          "execution_count": 18
        }
      ]
    },
    {
      "cell_type": "markdown",
      "metadata": {
        "id": "F1KYdDmS6l9w",
        "colab_type": "text"
      },
      "source": [
        "Predicting the Test set results"
      ]
    },
    {
      "cell_type": "code",
      "metadata": {
        "id": "dObnu5ZS-5LU",
        "colab_type": "code",
        "outputId": "ac642a9c-a003-4a38-d19c-4144c6c71e4a",
        "colab": {
          "base_uri": "https://localhost:8080/",
          "height": 204
        }
      },
      "source": [
        "# vector of predicted profits\n",
        "y_pred = regressor.predict(x_test)\n",
        "np.set_printoptions(precision=2)\n",
        "print(np.concatenate((y_pred.reshape(len(y_pred),1), y_test.reshape(len(y_test),1)),1))"
      ],
      "execution_count": 19,
      "outputs": [
        {
          "output_type": "stream",
          "text": [
            "[[114664.42 105008.31]\n",
            " [ 90593.16  96479.51]\n",
            " [ 75692.84  78239.91]\n",
            " [ 70221.89  81229.06]\n",
            " [179790.26 191050.39]\n",
            " [171576.92 182901.99]\n",
            " [ 49753.59  35673.41]\n",
            " [102276.66 101004.64]\n",
            " [ 58649.38  49490.75]\n",
            " [ 98272.03  97483.56]]\n"
          ],
          "name": "stdout"
        }
      ]
    }
  ]
}